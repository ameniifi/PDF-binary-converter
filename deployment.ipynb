{
 "cells": [
  {
   "cell_type": "code",
   "execution_count": 1,
   "id": "2b0de505-5e41-45be-9b3e-cde925ebf2ca",
   "metadata": {},
   "outputs": [],
   "source": [
    "from flask import Flask, request, redirect, url_for, send_from_directory\n",
    "import os\n",
    "import numpy as np\n",
    "import tensorflow as tf\n",
    "from tensorflow.keras.preprocessing.image import img_to_array, load_img\n",
    "from PIL import Image\n",
    "import fitz  # PyMuPDF\n",
    "import io"
   ]
  },
  {
   "cell_type": "code",
   "execution_count": 2,
   "id": "3e45490b-24b9-43b6-9c4e-cee46f623006",
   "metadata": {},
   "outputs": [],
   "source": [
    "app = Flask(__name__)\n",
    "app.config['UPLOAD_FOLDER'] = 'uploads'\n",
    "app.config['OUTPUT_FOLDER'] = 'output'\n",
    "os.makedirs(app.config['UPLOAD_FOLDER'], exist_ok=True)\n",
    "os.makedirs(app.config['OUTPUT_FOLDER'], exist_ok=True)"
   ]
  },
  {
   "cell_type": "code",
   "execution_count": 3,
   "id": "38cecc4a-aafa-4cdd-ba15-bc039af06207",
   "metadata": {},
   "outputs": [
    {
     "name": "stderr",
     "output_type": "stream",
     "text": [
      "WARNING:absl:Compiled the loaded model, but the compiled metrics have yet to be built. `model.compile_metrics` will be empty until you train or evaluate the model.\n",
      "WARNING:absl:Compiled the loaded model, but the compiled metrics have yet to be built. `model.compile_metrics` will be empty until you train or evaluate the model.\n"
     ]
    },
    {
     "name": "stdout",
     "output_type": "stream",
     "text": [
      "Models loaded successfully.\n"
     ]
    }
   ],
   "source": [
    "# Load models\n",
    "try:\n",
    "    image_model = tf.keras.models.load_model('image_model.h5')\n",
    "    text_model = tf.keras.models.load_model('text_model.h5')\n",
    "    print(\"Models loaded successfully.\")\n",
    "except Exception as e:\n",
    "    print(f\"Error loading models: {e}\")\n"
   ]
  },
  {
   "cell_type": "code",
   "execution_count": 4,
   "id": "0c9f05be-2db2-44f2-8586-4f46b2759b9c",
   "metadata": {},
   "outputs": [],
   "source": [
    "def load_image(file_path, target_size=(128, 128)):\n",
    "    try:\n",
    "        img = load_img(file_path, target_size=target_size, color_mode='rgb')\n",
    "        img = img_to_array(img)\n",
    "        img = img / 255.0\n",
    "        return img\n",
    "    except Exception as e:\n",
    "        print(f\"Error loading image: {e}\")"
   ]
  },
  {
   "cell_type": "code",
   "execution_count": 5,
   "id": "d1738484-d2eb-4b35-ae07-5c46025540df",
   "metadata": {},
   "outputs": [],
   "source": [
    "def encode_text(text, max_length=500):\n",
    "    text = text[:max_length].ljust(max_length)\n",
    "    encoded = [ord(char) for char in text]\n",
    "    return np.array(encoded)\n",
    "\n",
    "def encode_image_to_binary(data):\n",
    "    data = (data * 255).astype(np.uint8)\n",
    "    binary_data = ''.join(format(byte, '08b') for byte in data.flatten())\n",
    "    return binary_data\n",
    "\n",
    "def encode_text_to_binary(data):\n",
    "    binary_data = ''.join(format(byte, '08b') for byte in data)\n",
    "    return binary_data\n"
   ]
  },
  {
   "cell_type": "code",
   "execution_count": 6,
   "id": "57a4d193-a932-4698-8028-55898316b634",
   "metadata": {},
   "outputs": [],
   "source": [
    "def extract_from_pdf(file_path):\n",
    "    pdf_document = fitz.open(file_path)\n",
    "    images = []\n",
    "    texts = []\n",
    "    for page_number in range(len(pdf_document)):\n",
    "        page = pdf_document.load_page(page_number)\n",
    "        text = page.get_text()\n",
    "        if text:\n",
    "            texts.append(text)\n",
    "        image_list = page.get_images(full=True)\n",
    "        for img_index, img in enumerate(image_list):\n",
    "            xref = img[0]\n",
    "            base_image = pdf_document.extract_image(xref)\n",
    "            image_bytes = base_image[\"image\"]\n",
    "            image = Image.open(io.BytesIO(image_bytes))\n",
    "            image = image.convert('RGB')\n",
    "            images.append(image)\n",
    "    return images, texts"
   ]
  },
  {
   "cell_type": "code",
   "execution_count": 7,
   "id": "4b64df21-0c62-470c-b8f1-8ba0ad92ca94",
   "metadata": {},
   "outputs": [],
   "source": [
    "def classify_and_encode_pdf(file_path):\n",
    "    images, texts = extract_from_pdf(file_path)\n",
    "    binary_data = \"\"\n",
    "    for image in images:\n",
    "        image = image.resize((128, 128))\n",
    "        data = img_to_array(image) / 255.0\n",
    "        data = np.expand_dims(data, axis=0)\n",
    "        binary_data += encode_image_to_binary(data)\n",
    "    for text in texts:\n",
    "        encoded_data = encode_text(text)\n",
    "        data = np.expand_dims(encoded_data, axis=0)\n",
    "        binary_data += encode_text_to_binary(encoded_data)\n",
    "    return binary_data"
   ]
  },
  {
   "cell_type": "code",
   "execution_count": 8,
   "id": "c80b11da-6a63-4bf6-ae2c-165702952dbb",
   "metadata": {},
   "outputs": [],
   "source": [
    "def save_binary_data_to_file(pdf_path, binary_data):\n",
    "    pdf_base_name = os.path.splitext(os.path.basename(pdf_path))[0]\n",
    "    binary_file_name = pdf_base_name + '_encoded.txt'\n",
    "    output_file_path = os.path.join(app.config['OUTPUT_FOLDER'], binary_file_name)\n",
    "    try:\n",
    "        with open(output_file_path, 'w') as f:\n",
    "            f.write(binary_data)\n",
    "        return output_file_path\n",
    "    except Exception as e:\n",
    "        print(f\"Error saving binary data to file: {e}\")"
   ]
  },
  {
   "cell_type": "code",
   "execution_count": 9,
   "id": "ca76afcb-9cfe-441d-b779-9464171ea77a",
   "metadata": {},
   "outputs": [],
   "source": [
    "@app.route('/')\n",
    "def index():\n",
    "    return '''\n",
    "    <!doctype html>\n",
    "    <title>PDF Classifier</title>\n",
    "    <h1>Upload a PDF file</h1>\n",
    "    <form action=\"/upload\" method=\"post\" enctype=\"multipart/form-data\">\n",
    "      <input type=\"file\" name=\"pdf_file\">\n",
    "      <input type=\"submit\" value=\"Upload\">\n",
    "    </form>\n",
    "    '''"
   ]
  },
  {
   "cell_type": "code",
   "execution_count": 10,
   "id": "0c792d7a-1afa-4e78-951c-29278100a897",
   "metadata": {},
   "outputs": [],
   "source": [
    "@app.route('/upload', methods=['POST'])\n",
    "def upload_file():\n",
    "    if 'pdf_file' not in request.files:\n",
    "        return redirect(request.url)\n",
    "    file = request.files['pdf_file']\n",
    "    if file.filename == '':\n",
    "        return redirect(request.url)\n",
    "    if file and file.filename.endswith('.pdf'):\n",
    "        file_path = os.path.join(app.config['UPLOAD_FOLDER'], file.filename)\n",
    "        file.save(file_path)\n",
    "        try:\n",
    "            binary_data = classify_and_encode_pdf(file_path)\n",
    "            output_file_path = save_binary_data_to_file(file_path, binary_data)\n",
    "            return redirect(url_for('download_encoded_file', filename=os.path.basename(output_file_path)))\n",
    "        except Exception as e:\n",
    "            print(f\"Error processing file: {e}\")\n",
    "            return redirect(request.url)"
   ]
  },
  {
   "cell_type": "code",
   "execution_count": 11,
   "id": "c6103661-574e-434e-8e8a-846ad9ab0292",
   "metadata": {},
   "outputs": [],
   "source": [
    "@app.route('/download/<filename>')\n",
    "def download_encoded_file(filename):\n",
    "    try:\n",
    "        return send_from_directory(app.config['OUTPUT_FOLDER'], filename)\n",
    "    except Exception as e:\n",
    "        print(f\"Error sending file: {e}\")\n",
    "        return redirect(url_for('index'))"
   ]
  },
  {
   "cell_type": "code",
   "execution_count": 12,
   "id": "a927aa4e-709c-417f-ab46-7d1b6a0adf34",
   "metadata": {},
   "outputs": [
    {
     "name": "stdout",
     "output_type": "stream",
     "text": [
      " * Serving Flask app '__main__'\n",
      " * Debug mode: on\n"
     ]
    },
    {
     "name": "stderr",
     "output_type": "stream",
     "text": [
      "INFO:werkzeug:\u001b[31m\u001b[1mWARNING: This is a development server. Do not use it in a production deployment. Use a production WSGI server instead.\u001b[0m\n",
      " * Running on http://127.0.0.1:5000\n",
      "INFO:werkzeug:\u001b[33mPress CTRL+C to quit\u001b[0m\n",
      "INFO:werkzeug: * Restarting with stat\n"
     ]
    },
    {
     "ename": "SystemExit",
     "evalue": "1",
     "output_type": "error",
     "traceback": [
      "An exception has occurred, use %tb to see the full traceback.\n",
      "\u001b[1;31mSystemExit\u001b[0m\u001b[1;31m:\u001b[0m 1\n"
     ]
    },
    {
     "name": "stderr",
     "output_type": "stream",
     "text": [
      "C:\\Users\\MSI\\classify-img-txt\\cit\\lib\\site-packages\\IPython\\core\\interactiveshell.py:3585: UserWarning: To exit: use 'exit', 'quit', or Ctrl-D.\n",
      "  warn(\"To exit: use 'exit', 'quit', or Ctrl-D.\", stacklevel=1)\n"
     ]
    }
   ],
   "source": [
    "if __name__ == '__main__':\n",
    "    try:\n",
    "        app.run(debug=True)\n",
    "    except Exception as e:\n",
    "        print(f\"Error running the app: {e}\")"
   ]
  },
  {
   "cell_type": "code",
   "execution_count": null,
   "id": "04fa4561-6f0d-4cd8-a4b2-391f15cb34f5",
   "metadata": {},
   "outputs": [],
   "source": []
  }
 ],
 "metadata": {
  "kernelspec": {
   "display_name": "cit",
   "language": "python",
   "name": "cit"
  },
  "language_info": {
   "codemirror_mode": {
    "name": "ipython",
    "version": 3
   },
   "file_extension": ".py",
   "mimetype": "text/x-python",
   "name": "python",
   "nbconvert_exporter": "python",
   "pygments_lexer": "ipython3",
   "version": "3.10.11"
  }
 },
 "nbformat": 4,
 "nbformat_minor": 5
}
